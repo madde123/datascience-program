{
 "cells": [
  {
   "cell_type": "code",
   "execution_count": 1,
   "id": "5f9a55e0",
   "metadata": {},
   "outputs": [
    {
     "name": "stdout",
     "output_type": "stream",
     "text": [
      "\tTwinkle, twinkle, little star,\n",
      "\t\tHow I wonder what you are!\n",
      "\t\t\tUp above the world so high,\n",
      "\t\t\tLike a diamond in the sky.\n",
      "\tTwinkle, twinkle, little star,\n",
      "\t\tHow I wonder what you are\n"
     ]
    }
   ],
   "source": [
    "#1\n",
    "\"\"\"Write a Python program to print the following string in a specific format (see the\n",
    "output). \n",
    "          Twinkle, twinkle, little star,\n",
    "\n",
    "                   How I wonder what you are!\n",
    "\n",
    "                          Up above the world so high,\n",
    "                          Like a diamond in the sky.\n",
    "\n",
    "          Twinkle, twinkle, little star,\n",
    "\n",
    "                   How I wonder what you are\"\"\"\n",
    "\n",
    "print(\"\\tTwinkle, twinkle, little star,\")\n",
    "print(\"\\t\\tHow I wonder what you are!\")\n",
    "print(\"\\t\\t\\tUp above the world so high,\")\n",
    "print(\"\\t\\t\\tLike a diamond in the sky.\")\n",
    "print(\"\\tTwinkle, twinkle, little star,\")\n",
    "print(\"\\t\\tHow I wonder what you are\")"
   ]
  },
  {
   "cell_type": "code",
   "execution_count": 2,
   "id": "efc7c823",
   "metadata": {},
   "outputs": [
    {
     "name": "stdout",
     "output_type": "stream",
     "text": [
      "3.8.8\n"
     ]
    }
   ],
   "source": [
    "#2\n",
    "\"\"\"Write a Python program to get the Python version you are using \"\"\"\n",
    "from platform import python_version\n",
    "print(python_version())"
   ]
  },
  {
   "cell_type": "code",
   "execution_count": 3,
   "id": "a7c31fbd",
   "metadata": {},
   "outputs": [
    {
     "name": "stdout",
     "output_type": "stream",
     "text": [
      "31-12-21 18:34:06\n"
     ]
    }
   ],
   "source": [
    "#3\n",
    "\"\"\"Write a Python program to display the current date and time\"\"\"\n",
    "from datetime import datetime\n",
    "now=datetime.now()\n",
    "print(now.strftime(\"%d-%m-%y %H:%M:%S\"))"
   ]
  },
  {
   "cell_type": "code",
   "execution_count": 4,
   "id": "22442eb2",
   "metadata": {},
   "outputs": [
    {
     "name": "stdout",
     "output_type": "stream",
     "text": [
      "Enter the radius of a circle:2\n",
      "Area of a circle =  12.56\n"
     ]
    }
   ],
   "source": [
    "#4\n",
    "\"\"\"Write a Python program which accepts the radius of a circle from the user and compute\n",
    "the area.\"\"\"\n",
    "\n",
    "radius=int(input(\"Enter the radius of a circle:\"))\n",
    "area=3.14*radius**2\n",
    "\n",
    "print(\"Area of a circle = \", area)"
   ]
  },
  {
   "cell_type": "code",
   "execution_count": 5,
   "id": "560b55e4",
   "metadata": {},
   "outputs": [
    {
     "name": "stdout",
     "output_type": "stream",
     "text": [
      "Enter your first name: Hammad\n",
      "Enter your last name: Saeed\n",
      "Saeed Hammad\n"
     ]
    }
   ],
   "source": [
    "#5\n",
    "\"\"\"Write a Python program which accepts the user's first and last name and print them in\n",
    "reverse order with a space between them. \"\"\"\n",
    "\n",
    "firstname=input(\"Enter your first name: \")\n",
    "lastname=input(\"Enter your last name: \")\n",
    "\n",
    "print (lastname + \" \" +firstname)"
   ]
  },
  {
   "cell_type": "code",
   "execution_count": 6,
   "id": "6e955bb7",
   "metadata": {},
   "outputs": [
    {
     "name": "stdout",
     "output_type": "stream",
     "text": [
      "Enter first number: 23\n",
      "Enter second number: 34\n",
      "Addition of  23  and  34  =  57\n"
     ]
    }
   ],
   "source": [
    "#6\n",
    "\"\"\"Write a python program which takes two inputs from user and print them addition\"\"\"\n",
    "\n",
    "n1=int(input(\"Enter first number: \"))\n",
    "n2=int(input(\"Enter second number: \"))\n",
    "print(\"Addition of \",n1,\" and \",n2,\" = \",n1+n2)"
   ]
  },
  {
   "cell_type": "code",
   "execution_count": null,
   "id": "f3123a9a",
   "metadata": {},
   "outputs": [],
   "source": []
  }
 ],
 "metadata": {
  "kernelspec": {
   "display_name": "Python 3",
   "language": "python",
   "name": "python3"
  },
  "language_info": {
   "codemirror_mode": {
    "name": "ipython",
    "version": 3
   },
   "file_extension": ".py",
   "mimetype": "text/x-python",
   "name": "python",
   "nbconvert_exporter": "python",
   "pygments_lexer": "ipython3",
   "version": "3.8.8"
  }
 },
 "nbformat": 4,
 "nbformat_minor": 5
}
